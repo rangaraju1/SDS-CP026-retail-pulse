{
 "cells": [
  {
   "cell_type": "code",
   "execution_count": 1,
   "id": "1a5e0c19-0de3-4e0b-991f-b0e0dd64f7b1",
   "metadata": {},
   "outputs": [
    {
     "name": "stdout",
     "output_type": "stream",
     "text": [
      "Let us work on a SDS project\n"
     ]
    }
   ],
   "source": [
    "print(\"Let us work on a SDS project\")"
   ]
  }
 ],
 "metadata": {
  "kernelspec": {
   "display_name": "Python 3 (ipykernel)",
   "language": "python",
   "name": "python3"
  },
  "language_info": {
   "codemirror_mode": {
    "name": "ipython",
    "version": 3
   },
   "file_extension": ".py",
   "mimetype": "text/x-python",
   "name": "python",
   "nbconvert_exporter": "python",
   "pygments_lexer": "ipython3",
   "version": "3.11.7"
  }
 },
 "nbformat": 4,
 "nbformat_minor": 5
}
